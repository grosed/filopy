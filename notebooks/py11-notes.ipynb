{
 "cells": [
  {
   "cell_type": "code",
   "execution_count": null,
   "id": "b427fc7b-50f4-4e1e-917f-d7fec63bc7b8",
   "metadata": {},
   "outputs": [],
   "source": []
  },
  {
   "cell_type": "code",
   "execution_count": 2,
   "id": "9eb0b508-c5d3-4506-a6c4-7c68bb706def",
   "metadata": {},
   "outputs": [
    {
     "name": "stdout",
     "output_type": "stream",
     "text": [
      "Collecting pybind11\n",
      "  Downloading pybind11-2.11.1-py3-none-any.whl.metadata (9.5 kB)\n",
      "Downloading pybind11-2.11.1-py3-none-any.whl (227 kB)\n",
      "\u001b[2K   \u001b[38;2;114;156;31m━━━━━━━━━━━━━━━━━━━━━━━━━━━━━━━━━━━━━━━━\u001b[0m \u001b[32m227.7/227.7 kB\u001b[0m \u001b[31m3.4 MB/s\u001b[0m eta \u001b[36m0:00:00\u001b[0m[31m3.4 MB/s\u001b[0m eta \u001b[36m0:00:01\u001b[0m\n",
      "\u001b[?25hInstalling collected packages: pybind11\n",
      "Successfully installed pybind11-2.11.1\n"
     ]
    }
   ],
   "source": [
    "!python -m pip install pybind11"
   ]
  },
  {
   "cell_type": "markdown",
   "id": "9a0d35d6-5479-40d0-b548-03f56fe10c10",
   "metadata": {},
   "source": [
    "## Example 1"
   ]
  },
  {
   "cell_type": "markdown",
   "id": "266302ec-54af-46e5-8e11-8ac79910f052",
   "metadata": {},
   "source": [
    "### c++ source "
   ]
  },
  {
   "cell_type": "markdown",
   "id": "c5d4df51-d5fa-4011-a5ed-b14bbc141e7f",
   "metadata": {},
   "source": [
    "Note - save this soure as add.cpp"
   ]
  },
  {
   "cell_type": "markdown",
   "id": "7d7bf1d3-ee6d-4b78-86d2-877cce6a52cb",
   "metadata": {},
   "source": [
    "```c++\n",
    "#include <pybind11/pybind11.h>\n",
    "\n",
    "namespace py = pybind11;\n",
    "\n",
    "\n",
    "int add(int i, int j)\n",
    "{\n",
    "    return i + j;\n",
    "}\n",
    "\n",
    "PYBIND11_MODULE(example_1, m)\n",
    "{  \n",
    "  m.doc() = \"pybind11 example plugin\"; // optional module docstring\n",
    "  m.def(\"add\", &add, \"A function that adds two numbers\");\n",
    "}\n",
    "```"
   ]
  },
  {
   "cell_type": "markdown",
   "id": "c0d326c6-a9ec-4d2e-8bc9-8c24caf9e7c3",
   "metadata": {},
   "source": [
    "### to compile the code use"
   ]
  },
  {
   "cell_type": "markdown",
   "id": "e18df1d5-31c3-4b6e-9ed4-b3e782f684de",
   "metadata": {},
   "source": [
    "```bash\n",
    "$ g++ -O3 -Wall -shared -std=c++11 -fPIC $(python -m pybind11 --includes) add.cpp -o example_1$(python3-config --extension-suffix)\n",
    "```"
   ]
  },
  {
   "cell_type": "markdown",
   "id": "74e27cf7-eb91-45ff-8861-6bc6b9ce8fdd",
   "metadata": {},
   "source": [
    "### load and use the example"
   ]
  },
  {
   "cell_type": "markdown",
   "id": "f8d4b16c-7fb9-4f5c-9ebc-430403977638",
   "metadata": {},
   "source": [
    "```python\n",
    "import example_1\n",
    "example_1.add(3,4)\n",
    "```"
   ]
  },
  {
   "cell_type": "markdown",
   "id": "fe6f6932-1ffc-4bd7-ac6a-7f4720b78a02",
   "metadata": {},
   "source": [
    "## Building filopy c++ "
   ]
  },
  {
   "cell_type": "markdown",
   "id": "cd7394f6-b16b-4233-a73f-3445b555f23a",
   "metadata": {},
   "source": [
    "```bash\n",
    "g++ -I./ -std=c++17 -O3 -Wall -shared  -fPIC $(python -m pybind11 --includes) AbstractMoveGeneratorsView.cpp    MoveGeneratorsHeap.cpp  MoveGenerators.cpp  Solution.cpp SolutionConstruction.cpp SolutionUtilities.cpp filo.cpp -o filopy$(python3-config --extension-suffix)\n",
    "```"
   ]
  },
  {
   "cell_type": "markdown",
   "id": "f3c8d622-e775-41a2-8bd0-eac01b96029b",
   "metadata": {},
   "source": [
    "### running an example"
   ]
  },
  {
   "cell_type": "markdown",
   "id": "3146288e-f647-4fb1-b674-d0b1a13644a6",
   "metadata": {},
   "source": [
    "```python\n",
    "from filopy import filo\n",
    "routes,cost = filo(\"X-n936-k151.vrp\")\n",
    "```"
   ]
  }
 ],
 "metadata": {
  "kernelspec": {
   "display_name": "Python 3 (ipykernel)",
   "language": "python",
   "name": "python3"
  },
  "language_info": {
   "codemirror_mode": {
    "name": "ipython",
    "version": 3
   },
   "file_extension": ".py",
   "mimetype": "text/x-python",
   "name": "python",
   "nbconvert_exporter": "python",
   "pygments_lexer": "ipython3",
   "version": "3.10.0"
  }
 },
 "nbformat": 4,
 "nbformat_minor": 5
}
